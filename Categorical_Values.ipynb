{
 "cells": [
  {
   "cell_type": "markdown",
   "id": "1e357228",
   "metadata": {},
   "source": [
    "## This Notebook is to summarize Notes about Machine Learning Model\n",
    "## for How to deal with Categorical Columns in Dataset"
   ]
  },
  {
   "cell_type": "markdown",
   "id": "0666d0c1",
   "metadata": {},
   "source": [
    "### ====================================================================="
   ]
  },
  {
   "cell_type": "markdown",
   "id": "e51c9e65",
   "metadata": {},
   "source": [
    "### By : Mohammed Agoor\n",
    "\n",
    "Git : https://github.com/AGOOR97"
   ]
  },
  {
   "cell_type": "markdown",
   "id": "4899ebb0",
   "metadata": {},
   "source": [
    "#### ============================= Coded By AGOOR ==================================="
   ]
  },
  {
   "cell_type": "code",
   "execution_count": 1,
   "id": "a8aeae66",
   "metadata": {},
   "outputs": [],
   "source": [
    "import pandas as pd\n",
    "\n",
    "# importing the total Library and import its methods below to know what we use\n",
    "import sklearn as sk\n",
    "from sklearn.ensemble import RandomForestRegressor\n",
    "from sklearn.metrics import mean_absolute_error\n",
    "from sklearn.model_selection import train_test_split\n",
    "from sklearn.impute import SimpleImputer\n",
    "from sklearn.preprocessing import LabelEncoder\n",
    "from sklearn.preprocessing import OneHotEncoder"
   ]
  },
  {
   "cell_type": "code",
   "execution_count": 2,
   "id": "79f45f24",
   "metadata": {},
   "outputs": [],
   "source": [
    "house = pd.read_csv('house_dataset.csv')"
   ]
  },
  {
   "cell_type": "markdown",
   "id": "6bdadacb",
   "metadata": {},
   "source": [
    "### Here I will deal with categorical values by diffrent Method\n",
    "\n",
    "#### 1- Dropping them\n",
    "#### 2- Label Encoding\n",
    "#### 3- One-Hot-Encoding \n"
   ]
  },
  {
   "cell_type": "markdown",
   "id": "2e4dd1fe",
   "metadata": {},
   "source": [
    "### Firstly : Dropping them - Categorical Columns"
   ]
  },
  {
   "cell_type": "code",
   "execution_count": 3,
   "id": "0c6a5292",
   "metadata": {},
   "outputs": [],
   "source": [
    "y = house.Price\n",
    "\n",
    "X = house.drop(['Price'] , axis = 1)\n",
    "\n",
    "# we have two options \n",
    "# 1-divide data then solve problem of categorical values for both training and validation features\n",
    "# 2-solve categorical columns for all the features Dataset , then divide them to train & test.\n",
    "\n",
    "# I will use the second Option\n",
    "\n",
    "# first : dropping Columns with missing values"
   ]
  },
  {
   "cell_type": "code",
   "execution_count": 4,
   "id": "b995d621",
   "metadata": {},
   "outputs": [],
   "source": [
    "# Define the function which returrns the MAE under requtires N of Leaves\n",
    "def getMAE(leaf_nodes,train_x_sent,val_x_sent,train_y_sent,val_y_sent):\n",
    "    '''this function is made to return MAE uder diffrent Number of Leaves'''\n",
    "    model = sk.ensemble.RandomForestRegressor(n_estimators = leaf_nodes,random_state = 0)\n",
    "    model.fit(train_x_sent,train_y_sent)\n",
    "    pred = model.predict(val_x_sent)\n",
    "    mae_cal = mean_absolute_error(pred,val_y_sent)\n",
    "    return mae_cal"
   ]
  },
  {
   "cell_type": "code",
   "execution_count": 5,
   "id": "45cf6554",
   "metadata": {},
   "outputs": [
    {
     "data": {
      "text/plain": [
       "['Car', 'BuildingArea', 'YearBuilt', 'CouncilArea']"
      ]
     },
     "execution_count": 5,
     "metadata": {},
     "output_type": "execute_result"
    }
   ],
   "source": [
    "col_miss_values = [col for col in X.columns if X[col].isnull().any()]\n",
    "col_miss_values"
   ]
  },
  {
   "cell_type": "code",
   "execution_count": 6,
   "id": "046368f3",
   "metadata": {},
   "outputs": [],
   "source": [
    "# drop these columns for all X\n",
    "\n",
    "X_full_features = X.drop(col_miss_values , axis = 1 )"
   ]
  },
  {
   "cell_type": "code",
   "execution_count": 7,
   "id": "bdb2fd0e",
   "metadata": {},
   "outputs": [],
   "source": [
    "# here in our first Approach , we will drop categorical columns also\n",
    "\n",
    "categ_cols = [cname for cname in X_full_features.columns if \n",
    "                             X_full_features[cname].dtype == 'object']"
   ]
  },
  {
   "cell_type": "code",
   "execution_count": 8,
   "id": "2b150779",
   "metadata": {},
   "outputs": [
    {
     "data": {
      "text/plain": [
       "['Suburb', 'Address', 'Type', 'Method', 'SellerG', 'Date', 'Regionname']"
      ]
     },
     "execution_count": 8,
     "metadata": {},
     "output_type": "execute_result"
    }
   ],
   "source": [
    "categ_cols"
   ]
  },
  {
   "cell_type": "code",
   "execution_count": 9,
   "id": "14f42080",
   "metadata": {},
   "outputs": [],
   "source": [
    "# Now , the X_full_ready is dropping the categorical columns and it is ready to be split\n",
    "X_full_ready = X_full_features.drop(categ_cols , axis = 1)"
   ]
  },
  {
   "cell_type": "code",
   "execution_count": 10,
   "id": "fce91d57",
   "metadata": {},
   "outputs": [],
   "source": [
    "train_x,val_x,train_y,val_y = sk.model_selection.train_test_split(X_full_ready , y , \n",
    "                                        train_size=0.8,test_size=0.2 , random_state=0)\n"
   ]
  },
  {
   "cell_type": "code",
   "execution_count": 11,
   "id": "e2ab24f6",
   "metadata": {},
   "outputs": [
    {
     "name": "stdout",
     "output_type": "stream",
     "text": [
      "Categorical Solution ... (Aproach 1) - Dropping them \n",
      " 175703.48185157913\n"
     ]
    }
   ],
   "source": [
    "mae_approach1 = getMAE(100,train_x,val_x,train_y,val_y)\n",
    "print('Categorical Solution ... (Aproach 1) - Dropping them \\n' , mae_approach1)"
   ]
  },
  {
   "cell_type": "markdown",
   "id": "ba2b9eb0",
   "metadata": {},
   "source": [
    "### ====================================================================="
   ]
  },
  {
   "cell_type": "markdown",
   "id": "448e7703",
   "metadata": {},
   "source": [
    "### Secondly : Label Encoding them - Categorical Columns"
   ]
  },
  {
   "cell_type": "code",
   "execution_count": 12,
   "id": "95c43d8b",
   "metadata": {},
   "outputs": [],
   "source": [
    "y = house.Price\n",
    "\n",
    "X = house.drop(['Price'] , axis = 1)"
   ]
  },
  {
   "cell_type": "code",
   "execution_count": 13,
   "id": "89a477e4",
   "metadata": {},
   "outputs": [],
   "source": [
    "# Define the function which returrns the MAE under requtires N of Leaves\n",
    "def getMAE(leaf_nodes,train_x_sent,val_x_sent,train_y_sent,val_y_sent):\n",
    "    '''this function is made to return MAE uder diffrent Number of Leaves'''\n",
    "    model = sk.ensemble.RandomForestRegressor(n_estimators = leaf_nodes,random_state = 0)\n",
    "    model.fit(train_x_sent,train_y_sent)\n",
    "    pred = model.predict(val_x_sent)\n",
    "    mae_cal = mean_absolute_error(pred,val_y_sent)\n",
    "    return mae_cal"
   ]
  },
  {
   "cell_type": "code",
   "execution_count": 14,
   "id": "176dfa59",
   "metadata": {},
   "outputs": [
    {
     "data": {
      "text/plain": [
       "['Car', 'BuildingArea', 'YearBuilt', 'CouncilArea']"
      ]
     },
     "execution_count": 14,
     "metadata": {},
     "output_type": "execute_result"
    }
   ],
   "source": [
    "col_miss_values = [col for col in X.columns if X[col].isnull().any()]\n",
    "col_miss_values"
   ]
  },
  {
   "cell_type": "code",
   "execution_count": 15,
   "id": "00a2cc11",
   "metadata": {},
   "outputs": [],
   "source": [
    "# drop these columns for all X\n",
    "\n",
    "X_full_features = X.drop(col_miss_values , axis = 1 )"
   ]
  },
  {
   "cell_type": "code",
   "execution_count": 16,
   "id": "aba72d5f",
   "metadata": {},
   "outputs": [],
   "source": [
    "# get Categorical columns which have dtypes of Object and Number of Unique Values < 10\n",
    "# i will take only columns with number of unique values < 10 to not increase dataset\n",
    "\n",
    "\n",
    "num_cols = [cname for cname in X_full_features.columns if\n",
    "                            X_full_features[cname].dtype in ['int64','float64']]\n",
    "                           \n",
    "\n",
    "cols_categ_encoding = [cname for cname in X_full_features.columns if\n",
    "                            X_full_features[cname].dtype == 'object' and\n",
    "                            X_full_features[cname].nunique() < 10]\n",
    "\n",
    "new_cols = num_cols+cols_categ_encoding\n",
    "\n",
    "X_new = X_full_features[new_cols].copy()\n"
   ]
  },
  {
   "cell_type": "code",
   "execution_count": 17,
   "id": "95f516f1",
   "metadata": {},
   "outputs": [
    {
     "data": {
      "text/plain": [
       "['Type', 'Method', 'Regionname']"
      ]
     },
     "execution_count": 17,
     "metadata": {},
     "output_type": "execute_result"
    }
   ],
   "source": [
    "# these columns which will be dealed with for label encoding\n",
    "cols_categ_encoding"
   ]
  },
  {
   "cell_type": "code",
   "execution_count": 18,
   "id": "b665e1fc",
   "metadata": {},
   "outputs": [],
   "source": [
    "# get categorical columns in the new X_new to make Labelencoding for them\n",
    "\n",
    "categ = (X_new.dtypes == 'object')\n",
    "list_object_for_encoding = categ[categ].index"
   ]
  },
  {
   "cell_type": "code",
   "execution_count": 19,
   "id": "632666f0",
   "metadata": {},
   "outputs": [
    {
     "data": {
      "text/plain": [
       "Index(['Type', 'Method', 'Regionname'], dtype='object')"
      ]
     },
     "execution_count": 19,
     "metadata": {},
     "output_type": "execute_result"
    }
   ],
   "source": [
    "list_object_for_encoding"
   ]
  },
  {
   "cell_type": "code",
   "execution_count": 20,
   "id": "bf20bc04",
   "metadata": {},
   "outputs": [],
   "source": [
    "# take a copy of X_new to make encoding for it\n",
    "\n",
    "X_encoding = X_new.copy()"
   ]
  },
  {
   "cell_type": "code",
   "execution_count": 21,
   "id": "f5e471bb",
   "metadata": {},
   "outputs": [],
   "source": [
    "\n",
    "my_encoder = LabelEncoder()\n",
    "\n",
    "for col in list_object_for_encoding:\n",
    "    X_encoding[col] = my_encoder.fit_transform(X_new[col])"
   ]
  },
  {
   "cell_type": "code",
   "execution_count": 22,
   "id": "b6f2a607",
   "metadata": {},
   "outputs": [
    {
     "data": {
      "text/html": [
       "<div>\n",
       "<style scoped>\n",
       "    .dataframe tbody tr th:only-of-type {\n",
       "        vertical-align: middle;\n",
       "    }\n",
       "\n",
       "    .dataframe tbody tr th {\n",
       "        vertical-align: top;\n",
       "    }\n",
       "\n",
       "    .dataframe thead th {\n",
       "        text-align: right;\n",
       "    }\n",
       "</style>\n",
       "<table border=\"1\" class=\"dataframe\">\n",
       "  <thead>\n",
       "    <tr style=\"text-align: right;\">\n",
       "      <th></th>\n",
       "      <th>Rooms</th>\n",
       "      <th>Distance</th>\n",
       "      <th>Postcode</th>\n",
       "      <th>Bedroom2</th>\n",
       "      <th>Bathroom</th>\n",
       "      <th>Landsize</th>\n",
       "      <th>Lattitude</th>\n",
       "      <th>Longtitude</th>\n",
       "      <th>Propertycount</th>\n",
       "      <th>Type</th>\n",
       "      <th>Method</th>\n",
       "      <th>Regionname</th>\n",
       "    </tr>\n",
       "  </thead>\n",
       "  <tbody>\n",
       "    <tr>\n",
       "      <th>0</th>\n",
       "      <td>2</td>\n",
       "      <td>2.5</td>\n",
       "      <td>3067.0</td>\n",
       "      <td>2.0</td>\n",
       "      <td>1.0</td>\n",
       "      <td>202.0</td>\n",
       "      <td>-37.7996</td>\n",
       "      <td>144.9984</td>\n",
       "      <td>4019.0</td>\n",
       "      <td>0</td>\n",
       "      <td>1</td>\n",
       "      <td>2</td>\n",
       "    </tr>\n",
       "    <tr>\n",
       "      <th>1</th>\n",
       "      <td>2</td>\n",
       "      <td>2.5</td>\n",
       "      <td>3067.0</td>\n",
       "      <td>2.0</td>\n",
       "      <td>1.0</td>\n",
       "      <td>156.0</td>\n",
       "      <td>-37.8079</td>\n",
       "      <td>144.9934</td>\n",
       "      <td>4019.0</td>\n",
       "      <td>0</td>\n",
       "      <td>1</td>\n",
       "      <td>2</td>\n",
       "    </tr>\n",
       "    <tr>\n",
       "      <th>2</th>\n",
       "      <td>3</td>\n",
       "      <td>2.5</td>\n",
       "      <td>3067.0</td>\n",
       "      <td>3.0</td>\n",
       "      <td>2.0</td>\n",
       "      <td>134.0</td>\n",
       "      <td>-37.8093</td>\n",
       "      <td>144.9944</td>\n",
       "      <td>4019.0</td>\n",
       "      <td>0</td>\n",
       "      <td>3</td>\n",
       "      <td>2</td>\n",
       "    </tr>\n",
       "    <tr>\n",
       "      <th>3</th>\n",
       "      <td>3</td>\n",
       "      <td>2.5</td>\n",
       "      <td>3067.0</td>\n",
       "      <td>3.0</td>\n",
       "      <td>2.0</td>\n",
       "      <td>94.0</td>\n",
       "      <td>-37.7969</td>\n",
       "      <td>144.9969</td>\n",
       "      <td>4019.0</td>\n",
       "      <td>0</td>\n",
       "      <td>0</td>\n",
       "      <td>2</td>\n",
       "    </tr>\n",
       "    <tr>\n",
       "      <th>4</th>\n",
       "      <td>4</td>\n",
       "      <td>2.5</td>\n",
       "      <td>3067.0</td>\n",
       "      <td>3.0</td>\n",
       "      <td>1.0</td>\n",
       "      <td>120.0</td>\n",
       "      <td>-37.8072</td>\n",
       "      <td>144.9941</td>\n",
       "      <td>4019.0</td>\n",
       "      <td>0</td>\n",
       "      <td>4</td>\n",
       "      <td>2</td>\n",
       "    </tr>\n",
       "  </tbody>\n",
       "</table>\n",
       "</div>"
      ],
      "text/plain": [
       "   Rooms  Distance  Postcode  Bedroom2  Bathroom  Landsize  Lattitude  \\\n",
       "0      2       2.5    3067.0       2.0       1.0     202.0   -37.7996   \n",
       "1      2       2.5    3067.0       2.0       1.0     156.0   -37.8079   \n",
       "2      3       2.5    3067.0       3.0       2.0     134.0   -37.8093   \n",
       "3      3       2.5    3067.0       3.0       2.0      94.0   -37.7969   \n",
       "4      4       2.5    3067.0       3.0       1.0     120.0   -37.8072   \n",
       "\n",
       "   Longtitude  Propertycount  Type  Method  Regionname  \n",
       "0    144.9984         4019.0     0       1           2  \n",
       "1    144.9934         4019.0     0       1           2  \n",
       "2    144.9944         4019.0     0       3           2  \n",
       "3    144.9969         4019.0     0       0           2  \n",
       "4    144.9941         4019.0     0       4           2  "
      ]
     },
     "execution_count": 22,
     "metadata": {},
     "output_type": "execute_result"
    }
   ],
   "source": [
    "X_encoding.head()"
   ]
  },
  {
   "cell_type": "code",
   "execution_count": 23,
   "id": "88262f50",
   "metadata": {},
   "outputs": [],
   "source": [
    "# ready to split\n",
    "\n",
    "train_x,val_x,train_y,val_y = sk.model_selection.train_test_split(X_encoding , y , \n",
    "                                        train_size=0.8,test_size=0.2 , random_state=0)\n"
   ]
  },
  {
   "cell_type": "code",
   "execution_count": 24,
   "id": "6d6ce64f",
   "metadata": {},
   "outputs": [
    {
     "name": "stdout",
     "output_type": "stream",
     "text": [
      "Categorical Solution ... (Aproach 2) - Label Encoding them \n",
      " 166176.0778164668\n"
     ]
    }
   ],
   "source": [
    "mae_approach2 = getMAE(100,train_x,val_x,train_y,val_y)\n",
    "print('Categorical Solution ... (Aproach 2) - Label Encoding them \\n' , mae_approach2)"
   ]
  },
  {
   "cell_type": "markdown",
   "id": "8f4876ee",
   "metadata": {},
   "source": [
    "### ====================================================================="
   ]
  },
  {
   "cell_type": "markdown",
   "id": "e4d76d16",
   "metadata": {},
   "source": [
    "### Thirdly : One Hot Encoding - Categorical Columns"
   ]
  },
  {
   "cell_type": "code",
   "execution_count": 25,
   "id": "32796357",
   "metadata": {},
   "outputs": [],
   "source": [
    "y = house.Price\n",
    "\n",
    "X = house.drop(['Price'] , axis = 1)"
   ]
  },
  {
   "cell_type": "code",
   "execution_count": 26,
   "id": "d39df106",
   "metadata": {},
   "outputs": [],
   "source": [
    "# Define the function which returrns the MAE under requtires N of Leaves\n",
    "def getMAE(leaf_nodes,train_x_sent,val_x_sent,train_y_sent,val_y_sent):\n",
    "    '''this function is made to return MAE uder diffrent Number of Leaves'''\n",
    "    model = sk.ensemble.RandomForestRegressor(n_estimators = leaf_nodes,random_state = 0)\n",
    "    model.fit(train_x_sent,train_y_sent)\n",
    "    pred = model.predict(val_x_sent)\n",
    "    mae_cal = mean_absolute_error(pred,val_y_sent)\n",
    "    return mae_cal"
   ]
  },
  {
   "cell_type": "code",
   "execution_count": 27,
   "id": "90f29df6",
   "metadata": {},
   "outputs": [
    {
     "data": {
      "text/plain": [
       "['Car', 'BuildingArea', 'YearBuilt', 'CouncilArea']"
      ]
     },
     "execution_count": 27,
     "metadata": {},
     "output_type": "execute_result"
    }
   ],
   "source": [
    "col_miss_values = [col for col in X.columns if X[col].isnull().any()]\n",
    "col_miss_values"
   ]
  },
  {
   "cell_type": "code",
   "execution_count": 28,
   "id": "5cd8e48a",
   "metadata": {},
   "outputs": [],
   "source": [
    "# drop these columns for all X\n",
    "\n",
    "X_full_features = X.drop(col_miss_values , axis = 1 )"
   ]
  },
  {
   "cell_type": "code",
   "execution_count": 29,
   "id": "53607f88",
   "metadata": {},
   "outputs": [],
   "source": [
    "# get Categorical columns which have dtypes of Object and Number of Unique Values < 10\n",
    "# i will take only columns with number of unique values < 10 to not increase dataset\n",
    "\n",
    "\n",
    "num_cols = [cname for cname in X_full_features.columns if\n",
    "                            X_full_features[cname].dtype in ['int64','float64']]\n",
    "                           \n",
    "\n",
    "cols_categ_encoding = [cname for cname in X_full_features.columns if\n",
    "                            X_full_features[cname].dtype == 'object' and\n",
    "                            X_full_features[cname].nunique() < 10]\n",
    "\n",
    "new_cols = num_cols+cols_categ_encoding\n",
    "\n",
    "X_new = X_full_features[new_cols].copy()\n"
   ]
  },
  {
   "cell_type": "code",
   "execution_count": 30,
   "id": "d15815c0",
   "metadata": {},
   "outputs": [
    {
     "data": {
      "text/plain": [
       "['Type', 'Method', 'Regionname']"
      ]
     },
     "execution_count": 30,
     "metadata": {},
     "output_type": "execute_result"
    }
   ],
   "source": [
    "# these columns which will be dealed with for label encoding\n",
    "cols_categ_encoding"
   ]
  },
  {
   "cell_type": "code",
   "execution_count": 31,
   "id": "3c47a5c4",
   "metadata": {},
   "outputs": [],
   "source": [
    "# get categorical columns in the new X_new to make Labelencoding for them\n",
    "\n",
    "categ = (X_new.dtypes == 'object')\n",
    "list_object_for_encoding = categ[categ].index"
   ]
  },
  {
   "cell_type": "code",
   "execution_count": 32,
   "id": "e65b63a9",
   "metadata": {},
   "outputs": [
    {
     "data": {
      "text/plain": [
       "Index(['Type', 'Method', 'Regionname'], dtype='object')"
      ]
     },
     "execution_count": 32,
     "metadata": {},
     "output_type": "execute_result"
    }
   ],
   "source": [
    "list_object_for_encoding"
   ]
  },
  {
   "cell_type": "code",
   "execution_count": 33,
   "id": "c37525eb",
   "metadata": {},
   "outputs": [],
   "source": [
    "# take a copy of X_new to make encoding for it\n",
    "\n",
    "X_OH_new = X_new.copy()"
   ]
  },
  {
   "cell_type": "code",
   "execution_count": 34,
   "id": "e607c266",
   "metadata": {},
   "outputs": [],
   "source": [
    "# Apply one-hot encoder to each column with categorical data\n",
    "\n",
    "OH_encoder = OneHotEncoder(handle_unknown='ignore', sparse=False)\n",
    "X_OH_encoding = pd.DataFrame(OH_encoder.fit_transform(X_OH_new[list_object_for_encoding]))"
   ]
  },
  {
   "cell_type": "code",
   "execution_count": 35,
   "id": "936ba64a",
   "metadata": {},
   "outputs": [],
   "source": [
    "# One-hot encoding removed index; put it back\n",
    "X_OH_encoding.index = X_OH_new.index\n"
   ]
  },
  {
   "cell_type": "code",
   "execution_count": 36,
   "id": "22514c4c",
   "metadata": {},
   "outputs": [],
   "source": [
    "# Remove categorical columns (will replace with one-hot encoding)\n",
    "X_num_cols = X_OH_new.drop(list_object_for_encoding, axis = 1)\n",
    "\n",
    "\n",
    "# Add one-hot encoded columns to numerical features\n",
    "X_OH_final = pd.concat([X_num_cols, X_OH_encoding], axis = 1)\n"
   ]
  },
  {
   "cell_type": "code",
   "execution_count": 37,
   "id": "53cac764",
   "metadata": {},
   "outputs": [],
   "source": [
    "# ready to split\n",
    "\n",
    "train_x,val_x,train_y,val_y = sk.model_selection.train_test_split(X_OH_final , y , \n",
    "                                        train_size=0.8,test_size=0.2 , random_state=0)\n"
   ]
  },
  {
   "cell_type": "code",
   "execution_count": 38,
   "id": "6cee2ae7",
   "metadata": {},
   "outputs": [
    {
     "name": "stdout",
     "output_type": "stream",
     "text": [
      "Categorical Solution ... (Aproach 3) - One Hot Encoding \n",
      " 166089.4893009678\n"
     ]
    }
   ],
   "source": [
    "mae_approach3 = getMAE(100,train_x,val_x,train_y,val_y)\n",
    "print('Categorical Solution ... (Aproach 3) - One Hot Encoding \\n' , mae_approach3)"
   ]
  },
  {
   "cell_type": "markdown",
   "id": "0eaa75d9",
   "metadata": {},
   "source": [
    "### ====================================================================="
   ]
  }
 ],
 "metadata": {
  "celltoolbar": "Raw Cell Format",
  "kernelspec": {
   "display_name": "Python 3",
   "language": "python",
   "name": "python3"
  },
  "language_info": {
   "codemirror_mode": {
    "name": "ipython",
    "version": 3
   },
   "file_extension": ".py",
   "mimetype": "text/x-python",
   "name": "python",
   "nbconvert_exporter": "python",
   "pygments_lexer": "ipython3",
   "version": "3.8.8"
  }
 },
 "nbformat": 4,
 "nbformat_minor": 5
}
